{
 "cells": [
  {
   "cell_type": "markdown",
   "metadata": {},
   "source": [
    "source : https://github.com/ahmed-BH/TextureBasedImageRetriever/blob/master/cbir.py"
   ]
  },
  {
   "cell_type": "code",
   "execution_count": null,
   "metadata": {},
   "outputs": [],
   "source": [
    "import numpy as np\n",
    "import cv2\n",
    "import os, glob, math\n",
    "from sklearn.metrics.pairwise import euclidean_distances\n",
    "\n",
    "dataset_dir = \"poster\"\n",
    "descriptors_dir = \"feature\"\n",
    "\n",
    "if not os.path.exists(descriptors_dir):\n",
    "    os.makedirs(descriptors_dir)\n"
   ]
  },
  {
   "cell_type": "markdown",
   "metadata": {},
   "source": [
    "generate descriptor file"
   ]
  },
  {
   "cell_type": "code",
   "execution_count": null,
   "metadata": {},
   "outputs": [],
   "source": [
    "def get_descriptor(image_file):\n",
    "    kernel        = cv2.getGaborKernel((21, 21), 8.0, np.pi/4, 10.0, 0.5, 0, ktype=cv2.CV_32F)\n",
    "    kernel       /= math.sqrt((kernel * kernel).sum())\n",
    "    ori_img       = cv2.imread(image_file)\n",
    "    image         = cv2.cvtColor(ori_img, cv2.COLOR_BGR2GRAY)\n",
    "    image         = cv2.resize(image, (500, 750), interpolation = cv2.INTER_LINEAR)\n",
    "    filtered_img  = cv2.filter2D(image, cv2.CV_8UC3, kernel)\n",
    "    heigth, width = kernel.shape\n",
    "    \n",
    "    # convert matrix to vector \n",
    "    texturedesc = cv2.resize(filtered_img, (3*width, 3*heigth), interpolation=cv2.INTER_CUBIC) / 255\n",
    "\n",
    "    hsv = cv2.cvtColor(ori_img,cv2.COLOR_BGR2HSV)\n",
    "    hue = cv2.calcHist([hsv], [0], None, [180], [0, 180])\n",
    "    sat = cv2.calcHist([hsv], [1], None, [256], [0, 256])\n",
    "    colordesc = np.hstack(np.concatenate((hue, sat), axis = None))\n",
    "    colordesc /= colordesc.max()\n",
    "    colordesc *= 10\n",
    "\n",
    "    descriptor = np.hstack(np.concatenate((texturedesc, colordesc), axis = None))\n",
    "    return descriptor\n",
    "\n",
    "all_descriptors = []\n",
    "for entry in glob.glob(os.path.join(dataset_dir,\"*.jpg\")):\n",
    "    print(entry)\n",
    "    descriptor = get_descriptor(entry)\n",
    "    descriptor_file = os.path.join(descriptors_dir,\"{}.npy\".format(os.path.basename(entry)))\n",
    "    np.save(descriptor_file, descriptor, allow_pickle=False)\n",
    "    # print(descriptor.shape)"
   ]
  },
  {
   "cell_type": "markdown",
   "metadata": {},
   "source": [
    "testing"
   ]
  },
  {
   "cell_type": "code",
   "execution_count": null,
   "metadata": {},
   "outputs": [],
   "source": [
    "test_descriptor = get_descriptor(\"poster\\\\zDduhCHasKQ9YOTvlOreHem7Wbi.jpg\")\n",
    "best_fit_images = []\n",
    "\n",
    "for descriptorfile in glob.glob(os.path.join(descriptors_dir,\"*.npy\")):\n",
    "    descriptor = np.load(descriptorfile)\n",
    "    distance = abs(euclidean_distances(descriptor.reshape(1, -1), test_descriptor.reshape(1, -1)))\n",
    "    entry = {\"image_path\": descriptorfile.replace(\".npy\",\"\").replace(descriptors_dir,\"\"),\n",
    "             \"distance\"  : distance\n",
    "            }\n",
    "    best_fit_images.append(entry)\n",
    "    best_fit_images.sort(key= lambda x:x[\"distance\"], reverse=False)\n",
    "    best_fit_images = best_fit_images[:10]\n",
    "# print(best_fit_images)\n",
    "fit_file = [row[\"image_path\"] for row in best_fit_images]\n",
    "print(fit_file)"
   ]
  },
  {
   "cell_type": "markdown",
   "metadata": {},
   "source": [
    "texture feature extraction"
   ]
  },
  {
   "cell_type": "code",
   "execution_count": null,
   "metadata": {},
   "outputs": [],
   "source": [
    "kernel        = cv2.getGaborKernel((21, 21), 8.0, np.pi/4, 10.0, 0.5, 0, ktype=cv2.CV_32F)\n",
    "kernel       /= math.sqrt((kernel * kernel).sum())\n",
    "ori_img       = cv2.imread(\"poster\\\\zDduhCHasKQ9YOTvlOreHem7Wbi.jpg\")\n",
    "image         = cv2.cvtColor(ori_img, cv2.COLOR_BGR2GRAY)\n",
    "image         = cv2.resize(image, (500, 750), interpolation = cv2.INTER_LINEAR)\n",
    "filtered_img  = cv2.filter2D(image, cv2.CV_8UC3, kernel)\n",
    "heigth, width = kernel.shape\n",
    "\n",
    "# convert matrix to vector \n",
    "texturedesc = cv2.resize(filtered_img, (3*width, 3*heigth), interpolation=cv2.INTER_CUBIC) / 255\n",
    "print(np.hstack(texturedesc))\n",
    "r = np.ptp(texturedesc)\n",
    "print(r)\n",
    "print(texturedesc.max())\n",
    "print(texturedesc.min())"
   ]
  },
  {
   "cell_type": "markdown",
   "metadata": {},
   "source": [
    "color feature extraction"
   ]
  },
  {
   "cell_type": "code",
   "execution_count": null,
   "metadata": {},
   "outputs": [],
   "source": [
    "img = cv2.imread(\"poster\\\\zDduhCHasKQ9YOTvlOreHem7Wbi.jpg\")\n",
    "hsv = cv2.cvtColor(ori_img,cv2.COLOR_BGR2HSV)\n",
    "hue = cv2.calcHist([hsv], [0], None, [180], [0, 180])\n",
    "sat = cv2.calcHist([hsv], [1], None, [256], [0, 256])\n",
    "colordesc = np.hstack(np.concatenate((hue, sat), axis = None))\n",
    "colordesc /= colordesc.max()\n",
    "colordesc *= 10\n",
    "print(colordesc)\n",
    "r = np.ptp(colordesc)\n",
    "print(r)\n",
    "print(colordesc.max())\n",
    "print(colordesc.min())"
   ]
  }
 ],
 "metadata": {
  "kernelspec": {
   "display_name": "film",
   "language": "python",
   "name": "python3"
  },
  "language_info": {
   "codemirror_mode": {
    "name": "ipython",
    "version": 3
   },
   "file_extension": ".py",
   "mimetype": "text/x-python",
   "name": "python",
   "nbconvert_exporter": "python",
   "pygments_lexer": "ipython3",
   "version": "3.10.14"
  }
 },
 "nbformat": 4,
 "nbformat_minor": 2
}
